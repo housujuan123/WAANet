{
 "cells": [
  {
   "cell_type": "code",
   "execution_count": 1,
   "metadata": {},
   "outputs": [],
   "source": [
    "import torch\n",
    "from torch import nn"
   ]
  },
  {
   "cell_type": "code",
   "execution_count": 2,
   "metadata": {},
   "outputs": [],
   "source": [
    "def dwt_init(x):\n",
    " \n",
    "    x01 = x[:, :, 0::2, :] / 2\n",
    "    x02 = x[:, :, 1::2, :] / 2\n",
    "    x1 = x01[:, :, :, 0::2]\n",
    "    x2 = x02[:, :, :, 0::2]\n",
    "    x3 = x01[:, :, :, 1::2]\n",
    "    x4 = x02[:, :, :, 1::2]\n",
    "    x_LL = x1 + x2 + x3 + x4\n",
    "    x_HL = -x1 - x2 + x3 + x4\n",
    "    x_LH = -x1 + x2 - x3 + x4\n",
    "    x_HH = x1 - x2 - x3 + x4\n",
    " \n",
    "    return torch.cat((x_LL, x_HL, x_LH, x_HH), 1)\n",
    " \n",
    "def iwt_init(x):\n",
    "    r = 2\n",
    "    in_batch, in_channel, in_height, in_width = x.size()\n",
    "    #print([in_batch, in_channel, in_height, in_width])\n",
    "    out_batch, out_channel, out_height, out_width = in_batch, int(\n",
    "        in_channel / (r ** 2)), r * in_height, r * in_width\n",
    "    x1 = x[:, 0:out_channel, :, :] / 2\n",
    "    x2 = x[:, out_channel:out_channel * 2, :, :] / 2\n",
    "    x3 = x[:, out_channel * 2:out_channel * 3, :, :] / 2\n",
    "    x4 = x[:, out_channel * 3:out_channel * 4, :, :] / 2\n",
    "    \n",
    " \n",
    "    h = torch.zeros([out_batch, out_channel, out_height, out_width]).float().cuda()\n",
    " \n",
    "    h[:, :, 0::2, 0::2] = x1 - x2 - x3 + x4\n",
    "    h[:, :, 1::2, 0::2] = x1 - x2 + x3 - x4\n",
    "    h[:, :, 0::2, 1::2] = x1 + x2 - x3 - x4\n",
    "    h[:, :, 1::2, 1::2] = x1 + x2 + x3 + x4\n",
    "    \n",
    "    return h\n",
    "\n",
    "class DWT(nn.Module):\n",
    "    def __init__(self):\n",
    "        super(DWT, self).__init__()\n",
    "        self.requires_grad = False\n",
    " \n",
    "    def forward(self, x):\n",
    "        x01 = x[:, :, 0::2, :] / 2\n",
    "        x02 = x[:, :, 1::2, :] / 2\n",
    "        x1 = x01[:, :, :, 0::2]\n",
    "        x2 = x02[:, :, :, 0::2]\n",
    "        x3 = x01[:, :, :, 1::2]\n",
    "        x4 = x02[:, :, :, 1::2]\n",
    "        x_LL = x1 + x2 + x3 + x4\n",
    "        x_HL = -x1 - x2 + x3 + x4\n",
    "        x_LH = -x1 + x2 - x3 + x4\n",
    "        x_HH = x1 - x2 - x3 + x4\n",
    " \n",
    "        return torch.cat((x_LL, x_HL, x_LH, x_HH), 1)\n",
    " \n",
    "class IWT(nn.Module):\n",
    "    def __init__(self):\n",
    "        super(IWT, self).__init__()\n",
    "        self.requires_grad = False\n",
    " \n",
    "    def forward(self, x):\n",
    "        r = 2\n",
    "        in_batch, in_channel, in_height, in_width = x.size()\n",
    "    #print([in_batch, in_channel, in_height, in_width])\n",
    "        out_batch, out_channel, out_height, out_width = in_batch, int(\n",
    "            in_channel / (r ** 2)), r * in_height, r * in_width\n",
    "        x1 = x[:, 0:out_channel, :, :] / 2\n",
    "        x2 = x[:, out_channel:out_channel * 2, :, :] / 2\n",
    "        x3 = x[:, out_channel * 2:out_channel * 3, :, :] / 2\n",
    "        x4 = x[:, out_channel * 3:out_channel * 4, :, :] / 2\n",
    "    \n",
    " \n",
    "        h = torch.zeros([out_batch, out_channel, out_height, out_width]).float().cuda()\n",
    " \n",
    "        h[:, :, 0::2, 0::2] = x1 - x2 - x3 + x4\n",
    "        h[:, :, 1::2, 0::2] = x1 - x2 + x3 - x4\n",
    "        h[:, :, 0::2, 1::2] = x1 + x2 - x3 - x4\n",
    "        h[:, :, 1::2, 1::2] = x1 + x2 + x3 + x4\n",
    "    \n",
    "        return h"
   ]
  },
  {
   "cell_type": "code",
   "execution_count": 3,
   "metadata": {},
   "outputs": [
    {
     "name": "stdout",
     "output_type": "stream",
     "text": [
      "torch.Size([1, 4, 256, 256])\n"
     ]
    }
   ],
   "source": [
    "x=torch.randn(1,1,512,512)\n",
    "model=DWT()\n",
    "print(model(x).shape)"
   ]
  },
  {
   "cell_type": "code",
   "execution_count": 6,
   "metadata": {},
   "outputs": [
    {
     "data": {
      "text/plain": [
       "torch.Size([1, 64, 152, 256])"
      ]
     },
     "execution_count": 6,
     "metadata": {},
     "output_type": "execute_result"
    }
   ],
   "source": [
    "model2=IWT()\n",
    "model2(torch.randn(1,256,76,128)).shape"
   ]
  },
  {
   "cell_type": "code",
   "execution_count": null,
   "metadata": {},
   "outputs": [],
   "source": []
  }
 ],
 "metadata": {
  "kernelspec": {
   "display_name": "base",
   "language": "python",
   "name": "python3"
  },
  "language_info": {
   "codemirror_mode": {
    "name": "ipython",
    "version": 3
   },
   "file_extension": ".py",
   "mimetype": "text/x-python",
   "name": "python",
   "nbconvert_exporter": "python",
   "pygments_lexer": "ipython3",
   "version": "3.7.3"
  },
  "orig_nbformat": 4
 },
 "nbformat": 4,
 "nbformat_minor": 2
}
